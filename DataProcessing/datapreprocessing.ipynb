{
  "cells": [
    {
      "cell_type": "markdown",
      "metadata": {
        "id": "F1yNP0NkdG2j"
      },
      "source": [
        "# Data Preprocessing Tools"
      ]
    },
    {
      "cell_type": "markdown",
      "metadata": {
        "id": "ZbOwoXrFdPi6"
      },
      "source": [
        "## Importing the libraries"
      ]
    },
    {
      "cell_type": "code",
      "execution_count": 1,
      "metadata": {
        "id": "EhEIG6VniAVs"
      },
      "outputs": [],
      "source": [
        "import numpy as np\n",
        "import matplotlib.pyplot as plt #\"pyplot\" -> module inside matplotlib\n",
        "import pandas as pd"
      ]
    },
    {
      "cell_type": "markdown",
      "metadata": {
        "id": "HTQi1XHWdVRh"
      },
      "source": [
        "## Importing the dataset"
      ]
    },
    {
      "cell_type": "code",
      "execution_count": 2,
      "metadata": {
        "id": "37t5FTPyksiy"
      },
      "outputs": [],
      "source": [
        "dataset = pd.read_csv('Data.csv')\n",
        "\n",
        "#features/independent variable\n",
        "#The : before the comma means “select all rows”\n",
        "#The :-1 after the comma means “select all columns except the last one”.\n",
        "X = dataset.iloc[:, :-1].values #\"iloc\" -> locate indexes of cols & rows\n",
        "\n",
        "#dependent variable(the one to predict)\n",
        "y = dataset.iloc[:, -1].values"
      ]
    },
    {
      "cell_type": "code",
      "execution_count": 5,
      "metadata": {
        "colab": {
          "base_uri": "https://localhost:8080/"
        },
        "id": "nFr_pCEJJYWl",
        "outputId": "621ed085-6905-4013-f321-b74ace74aa0b"
      },
      "outputs": [
        {
          "name": "stdout",
          "output_type": "stream",
          "text": [
            "[['France' 44.0 72000.0]\n",
            " ['Spain' 27.0 48000.0]\n",
            " ['Germany' 30.0 54000.0]\n",
            " ['Spain' 38.0 61000.0]\n",
            " ['Germany' 40.0 63777.77777777778]\n",
            " ['France' 35.0 58000.0]\n",
            " ['Spain' 38.77777777777778 52000.0]\n",
            " ['France' 48.0 79000.0]\n",
            " ['Germany' 50.0 83000.0]\n",
            " ['France' 37.0 67000.0]]\n",
            "['No' 'Yes' 'No' 'No' 'Yes' 'Yes' 'No' 'Yes' 'No' 'Yes']\n"
          ]
        }
      ],
      "source": [
        "print(X)\n",
        "print(y)"
      ]
    },
    {
      "cell_type": "markdown",
      "metadata": {
        "id": "bz1oxTqRddFM"
      },
      "source": [
        "## Taking care of missing data"
      ]
    },
    {
      "cell_type": "code",
      "execution_count": 4,
      "metadata": {
        "id": "p7NpBXqcKOSv"
      },
      "outputs": [],
      "source": [
        "from sklearn.impute import SimpleImputer\n",
        "#SimpleImputer -> used to fill in/impute missing values in our dataset, using a specified strategy like mean/median,..\n",
        "imputer = SimpleImputer(missing_values=np.nan, strategy='mean')\n",
        "#\"missing_values=np.nan\" -> missing values in the dataset are represented by np.nan -> Not a number\n",
        "imputer.fit(X[:, 1:3]) #calculates the mean of each column (1 & 2) in X\n",
        "X[:, 1:3] =  imputer.transform(X[:, 1:3])\n",
        "#replaces any np.nan values in cols 1 & 2 and assigning back to cols 1 & 2 of X, updating the data"
      ]
    },
    {
      "cell_type": "markdown",
      "metadata": {
        "id": "U3YKcAK2ZcNs"
      },
      "source": [
        "## Encoding Categorical data"
      ]
    },
    {
      "cell_type": "code",
      "execution_count": null,
      "metadata": {
        "id": "njBPXcUNZjC8"
      },
      "outputs": [],
      "source": []
    },
    {
      "cell_type": "markdown",
      "metadata": {},
      "source": [
        "## Encoding the Independent variable"
      ]
    },
    {
      "cell_type": "code",
      "execution_count": null,
      "metadata": {},
      "outputs": [],
      "source": [
        "from sklearn.compose import ColumnTransformer\n",
        "# ColumnTransformer lets to apply different preprocessor to different cols of the dataset; for categorical and numerical data and when we want to process them differently\n",
        "from sklearn.preprocessing import OneHotEncoder\n",
        "#OneHotEncoder used to convert categorical values into a format that can be provided to ML algos; it creates binary columns for each category"
      ]
    }
  ],
  "metadata": {
    "colab": {
      "provenance": []
    },
    "kernelspec": {
      "display_name": "Python 3",
      "name": "python3"
    },
    "language_info": {
      "codemirror_mode": {
        "name": "ipython",
        "version": 3
      },
      "file_extension": ".py",
      "mimetype": "text/x-python",
      "name": "python",
      "nbconvert_exporter": "python",
      "pygments_lexer": "ipython3",
      "version": "3.13.0"
    }
  },
  "nbformat": 4,
  "nbformat_minor": 0
}
